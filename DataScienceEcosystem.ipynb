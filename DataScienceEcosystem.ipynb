{
 "cells": [
  {
   "cell_type": "markdown",
   "id": "da7d3daa-968d-43ba-8f4c-e6277d1ea665",
   "metadata": {},
   "source": [
    "# Data Science Tools and Ecosystem"
   ]
  },
  {
   "cell_type": "markdown",
   "id": "1d15144a-e93b-45b8-af8e-550fe0a78f66",
   "metadata": {},
   "source": [
    "In this notebook, Data Science Tools and Ecosystem are summarized."
   ]
  },
  {
   "cell_type": "markdown",
   "id": "fc7ae3a2-3ec4-4404-a50a-dd5d58b2970e",
   "metadata": {},
   "source": [
    "Objectives:\n",
    "\n",
    "* List popular languages for data science\n",
    "* Learn to use Jupyter Notebook\n",
    "* Learn to use git and GitHub for version control "
   ]
  },
  {
   "cell_type": "markdown",
   "id": "801c4381-dda2-475c-8567-60b44ca99ce0",
   "metadata": {},
   "source": [
    "Some of the popular languages that Data Scientists use are:\n",
    "\n",
    "1. Python\n",
    "2. R\n",
    "3. Scala"
   ]
  },
  {
   "cell_type": "markdown",
   "id": "63810688-226e-4022-a08b-babebda9bea9",
   "metadata": {},
   "source": [
    "Some of the commonly used Python libraries used by Data Scientists include:\n",
    "1. Pandas\n",
    "2. NumPy\n",
    "3. PyTorch\n",
    "4. Keras\n",
    "5. Matplotlib"
   ]
  },
  {
   "cell_type": "markdown",
   "id": "916380db-cfb3-42c6-a384-5f07bb4a6e56",
   "metadata": {},
   "source": [
    "| Data Science Tools |\n",
    "| ------------------ |\n",
    "| Jupyter Notebook   |\n",
    "| JupyterLab         |\n",
    "| Spark              |\n",
    "| Git"
   ]
  },
  {
   "cell_type": "markdown",
   "id": "221c58fd-48d9-46e5-82b0-10bc2c8de5f3",
   "metadata": {},
   "source": [
    "Below are a few examples of evaluating arithmetic expressions in Python"
   ]
  },
  {
   "cell_type": "code",
   "execution_count": 1,
   "id": "ceaa94e4-71b0-4a80-b82f-f0483553870b",
   "metadata": {
    "tags": []
   },
   "outputs": [
    {
     "data": {
      "text/plain": [
       "27.5"
      ]
     },
     "execution_count": 1,
     "metadata": {},
     "output_type": "execute_result"
    }
   ],
   "source": [
    "(4*3)+31/2"
   ]
  },
  {
   "cell_type": "code",
   "execution_count": 2,
   "id": "60f77dd5-fa53-45b4-b225-d8deaee79f8e",
   "metadata": {
    "tags": []
   },
   "outputs": [
    {
     "data": {
      "text/plain": [
       "28.5"
      ]
     },
     "execution_count": 2,
     "metadata": {},
     "output_type": "execute_result"
    }
   ],
   "source": [
    "53/2+2"
   ]
  },
  {
   "cell_type": "code",
   "execution_count": 3,
   "id": "6b4f38e4-8b5a-4ca2-907e-d6285a5482bc",
   "metadata": {
    "tags": []
   },
   "outputs": [
    {
     "data": {
      "text/plain": [
       "67"
      ]
     },
     "execution_count": 3,
     "metadata": {},
     "output_type": "execute_result"
    }
   ],
   "source": [
    "(34-3)+(4*9)"
   ]
  },
  {
   "cell_type": "markdown",
   "id": "ef4517d3-969c-4db4-af79-c43de0976de8",
   "metadata": {},
   "source": [
    "This a simple arithmetic expression to mutiply then add integers"
   ]
  },
  {
   "cell_type": "code",
   "execution_count": 4,
   "id": "9dbb4e8b-3d3d-4cff-a9eb-2dca8ebf81be",
   "metadata": {
    "tags": []
   },
   "outputs": [
    {
     "data": {
      "text/plain": [
       "17"
      ]
     },
     "execution_count": 4,
     "metadata": {},
     "output_type": "execute_result"
    }
   ],
   "source": [
    "(3*4)+5"
   ]
  },
  {
   "cell_type": "markdown",
   "id": "0435f9c5-6732-43ff-8f58-5a6c452f244a",
   "metadata": {},
   "source": [
    "This will convert 200 minutes to hours by diving by 60."
   ]
  },
  {
   "cell_type": "code",
   "execution_count": 9,
   "id": "66fa13ff-2c9e-4399-8ded-67bbd624b9be",
   "metadata": {
    "tags": []
   },
   "outputs": [
    {
     "name": "stdout",
     "output_type": "stream",
     "text": [
      "Hours= 3\n",
      "Minutes= 20\n"
     ]
    }
   ],
   "source": [
    "t=200\n",
    "h=t//60\n",
    "m=t%60\n",
    "print(\"Hours=\",h)\n",
    "print(\"Minutes=\",m)"
   ]
  },
  {
   "cell_type": "markdown",
   "id": "b4d78315-1251-46ce-818d-ff9d4fb6b7a7",
   "metadata": {},
   "source": [
    "## Author\n",
    "Luke K."
   ]
  },
  {
   "cell_type": "code",
   "execution_count": null,
   "id": "e85d1737-eff5-4091-bfb7-e91d1587785e",
   "metadata": {},
   "outputs": [],
   "source": []
  }
 ],
 "metadata": {
  "kernelspec": {
   "display_name": "Python",
   "language": "python",
   "name": "conda-env-python-py"
  },
  "language_info": {
   "codemirror_mode": {
    "name": "ipython",
    "version": 3
   },
   "file_extension": ".py",
   "mimetype": "text/x-python",
   "name": "python",
   "nbconvert_exporter": "python",
   "pygments_lexer": "ipython3",
   "version": "3.7.12"
  }
 },
 "nbformat": 4,
 "nbformat_minor": 5
}
